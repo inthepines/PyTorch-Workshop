{
 "cells": [
  {
   "cell_type": "code",
   "execution_count": null,
   "metadata": {},
   "outputs": [],
   "source": [
    "import numpy as np\n",
    "import torchvision\n",
    "import torch\n",
    "from torch import Tensor\n",
    "from torch.autograd import Variable\n",
    "import torch.nn as nn\n",
    "import torch.nn.functional as F\n",
    "import torch.optim as optim\n",
    "import torchvision.transforms as transforms\n",
    "import matplotlib.pyplot as plt\n",
    "%matplotlib inline\n",
    "torch.cuda.is_available()"
   ]
  },
  {
   "cell_type": "code",
   "execution_count": null,
   "metadata": {},
   "outputs": [],
   "source": [
    "class DistInvert(nn.Module):\n",
    "    def __init__(self):\n",
    "        super(DistInvert, self).__init__()\n",
    "    def forward(self, a, b):\n",
    "        return 1/a.dist(b)\n",
    "d = DistInvert()\n",
    "a, b = Variable(Tensor([[8, 11]])), Variable(Tensor([[11, 15]]))\n",
    "d(a, b)"
   ]
  },
  {
   "cell_type": "code",
   "execution_count": null,
   "metadata": {
    "collapsed": true
   },
   "outputs": [],
   "source": [
    "early = nn.Sequential(\n",
    "    nn.Conv2d(1, 8, 5),\n",
    "    nn.ReLU(),\n",
    "    nn.Conv2d(8, 8, 5),\n",
    "    nn.ReLU(),\n",
    "    nn.MaxPool2d(2),\n",
    "    nn.Conv2d(8, 8, 3),\n",
    "    nn.ReLU(),\n",
    "    nn.Conv2d(8, 8, 3)\n",
    ")"
   ]
  },
  {
   "cell_type": "code",
   "execution_count": null,
   "metadata": {},
   "outputs": [],
   "source": [
    "transform = transforms.ToTensor()\n",
    "\n",
    "trainset = torchvision.datasets.MNIST(root='./data', train=True,\n",
    "                                        download=True, transform=transform)\n",
    "trainloader = torch.utils.data.DataLoader(trainset, batch_size=4,\n",
    "                                          shuffle=True, num_workers=2)\n",
    "\n",
    "testset = torchvision.datasets.MNIST(root='./data', train=False,\n",
    "                                       download=True, transform=transform)\n",
    "testloader = torch.utils.data.DataLoader(testset, batch_size=4,\n",
    "                                         shuffle=False, num_workers=2)"
   ]
  },
  {
   "cell_type": "code",
   "execution_count": null,
   "metadata": {
    "scrolled": true
   },
   "outputs": [],
   "source": [
    "# get some random training images\n",
    "dataiter = iter(trainloader)\n",
    "images, labels = dataiter.next()\n",
    "\n",
    "# show images\n",
    "def imshow(img):\n",
    "    npimg = img.numpy()\n",
    "    print(npimg.shape)\n",
    "    for i in npimg:\n",
    "        plt.figure()\n",
    "        plt.imshow(i[0], cmap= 'Greys')\n",
    "\n",
    "imshow(images)"
   ]
  },
  {
   "cell_type": "code",
   "execution_count": null,
   "metadata": {
    "collapsed": true
   },
   "outputs": [],
   "source": [
    "platonic_np = [np.load(\"platonic_{}_.npy\".format(i)) for i in range(10)]"
   ]
  },
  {
   "cell_type": "code",
   "execution_count": null,
   "metadata": {
    "scrolled": true
   },
   "outputs": [],
   "source": [
    "def imshowArr(img):\n",
    "    for i in img:\n",
    "        if i is not None:\n",
    "            plt.figure()\n",
    "            plt.imshow(i, cmap= 'Greys')\n",
    "imshowArr(platonic_np)"
   ]
  },
  {
   "cell_type": "code",
   "execution_count": null,
   "metadata": {
    "collapsed": true
   },
   "outputs": [],
   "source": [
    "class MNISTFeatureExtractor2(nn.Module):\n",
    "    def __init__(self):\n",
    "        super(MNISTFeatureExtractor2, self).__init__()\n",
    "        self.early = early\n",
    "        self.lin1 = nn.Linear(6 * 6 * 8, 120)\n",
    "        self.lin2 = nn.Linear(120, 84)\n",
    "    def forward(self, x):\n",
    "        x = F.relu(self.early(x))\n",
    "        x = x.view(-1, self.num_flat_features(x))\n",
    "        x = F.relu(self.lin1(x))\n",
    "        x = F.relu(self.lin2(x))\n",
    "        return x\n",
    "    def num_flat_features(self, x):\n",
    "        size = x.size()[1:]  # all dimensions except the batch dimension\n",
    "        num_features = 1\n",
    "        for s in size:\n",
    "            num_features *= s\n",
    "        return num_features\n",
    "feature_extractor = MNISTFeatureExtractor2()"
   ]
  },
  {
   "cell_type": "code",
   "execution_count": null,
   "metadata": {},
   "outputs": [],
   "source": [
    "class NNLayerNet(nn.Module):\n",
    "    def __init__(self):\n",
    "        super(NNLayerNet, self).__init__()\n",
    "        self.fe = feature_extractor\n",
    "        self.di = d\n",
    "    def forward(self, x):\n",
    "        platonic_hidden = [self.fe(i) for i in platonic]\n",
    "        x_hidden = self.fe(x)\n",
    "        ret = [\n",
    "            [self.di(x_hidden[i], ph[0]).view(1, 1) for i in range(x_hidden.size()[0])]\n",
    "            for ph in platonic_hidden\n",
    "        ]\n",
    "        ret = [torch.cat(r, 0) for r in ret]\n",
    "        return F.softmax(torch.cat(ret, 1))\n",
    "        \n",
    "net = NNLayerNet()\n",
    "net"
   ]
  },
  {
   "cell_type": "code",
   "execution_count": null,
   "metadata": {
    "collapsed": true
   },
   "outputs": [],
   "source": [
    "platonic = [Variable(Tensor(np.array([[i]]))) for i in platonic_np]"
   ]
  },
  {
   "cell_type": "code",
   "execution_count": null,
   "metadata": {},
   "outputs": [],
   "source": [
    "platonic[0].size()"
   ]
  },
  {
   "cell_type": "code",
   "execution_count": null,
   "metadata": {},
   "outputs": [],
   "source": [
    "optimizer = optim.SGD(net.parameters(), lr=0.01)\n",
    "\n",
    "optimizer"
   ]
  },
  {
   "cell_type": "code",
   "execution_count": null,
   "metadata": {
    "collapsed": true
   },
   "outputs": [],
   "source": [
    "criterion = nn.CrossEntropyLoss()"
   ]
  },
  {
   "cell_type": "code",
   "execution_count": null,
   "metadata": {
    "scrolled": true
   },
   "outputs": [],
   "source": [
    "net.cpu()\n",
    "for i in range(10):\n",
    "    dataiter = iter(trainloader)\n",
    "    hist = []\n",
    "    for i in range(13000):\n",
    "        if i%100 == 99:\n",
    "            print(i)\n",
    "            print(sum(hist) / len(hist))\n",
    "        input, target = dataiter.next()\n",
    "        input, target = Variable(input), Variable(target)\n",
    "        # in your training loop:\n",
    "        optimizer.zero_grad()   # zero the gradient buffers\n",
    "        output = net(input)\n",
    "        loss = criterion(output, target)\n",
    "        loss.backward()\n",
    "        hist.append(loss.data[0])\n",
    "        optimizer.step() \n",
    "    correct = 0\n",
    "    total = 0\n",
    "    for data in testloader:\n",
    "        images, labels = data\n",
    "        outputs = net(Variable(images))\n",
    "        _, predicted = torch.max(outputs.data, 1)\n",
    "        #print(predicted)\n",
    "        total += labels.size(0)\n",
    "        correct += (predicted == labels).sum()\n",
    "\n",
    "    print('Accuracy of the network on the test images: ' + str(\n",
    "        correct / total))"
   ]
  },
  {
   "cell_type": "code",
   "execution_count": null,
   "metadata": {
    "collapsed": true
   },
   "outputs": [],
   "source": [
    "net = torch.load(\"model1_full\")"
   ]
  },
  {
   "cell_type": "code",
   "execution_count": null,
   "metadata": {},
   "outputs": [],
   "source": [
    "net.cpu()\n",
    "correct = 0\n",
    "total = 0\n",
    "for data in testloader:\n",
    "    images, labels = data\n",
    "    outputs = net(Variable(images))\n",
    "    _, predicted = torch.max(outputs.data, 1)\n",
    "    #print(predicted)\n",
    "    total += labels.size(0)\n",
    "    correct += (predicted == labels).sum()\n",
    "\n",
    "print('Accuracy of the network on the test images: ' + str(\n",
    "    correct / total))"
   ]
  },
  {
   "cell_type": "code",
   "execution_count": null,
   "metadata": {},
   "outputs": [],
   "source": [
    "n = iter(testloader).next()\n",
    "x = Variable(n[0][0:1])\n",
    "imshow(n[0][0:1])\n",
    "n[1][0]"
   ]
  },
  {
   "cell_type": "code",
   "execution_count": null,
   "metadata": {},
   "outputs": [],
   "source": [
    "platonic_hidden = [net.fe(i) for i in platonic]\n",
    "x_hidden = net.fe(x)\n",
    "ret = [\n",
    "    [net.di(x_hidden[i], ph[0]).view(1, 1) for i in range(x_hidden.size()[0])]\n",
    "    for ph in platonic_hidden\n",
    "]\n",
    "[torch.cat(r, 0) for r in ret]"
   ]
  },
  {
   "cell_type": "code",
   "execution_count": null,
   "metadata": {
    "collapsed": true
   },
   "outputs": [],
   "source": []
  }
 ],
 "metadata": {
  "kernelspec": {
   "display_name": "Python 3",
   "language": "python",
   "name": "python3"
  },
  "language_info": {
   "codemirror_mode": {
    "name": "ipython",
    "version": 3
   },
   "file_extension": ".py",
   "mimetype": "text/x-python",
   "name": "python",
   "nbconvert_exporter": "python",
   "pygments_lexer": "ipython3",
   "version": "3.6.2"
  }
 },
 "nbformat": 4,
 "nbformat_minor": 2
}
